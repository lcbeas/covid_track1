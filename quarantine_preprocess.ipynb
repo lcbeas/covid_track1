{
 "cells": [
  {
   "cell_type": "code",
   "execution_count": 1,
   "metadata": {},
   "outputs": [],
   "source": [
    "import numpy as np\n",
    "import pandas as pd"
   ]
  },
  {
   "cell_type": "code",
   "execution_count": 128,
   "metadata": {},
   "outputs": [],
   "source": [
    "jhu = pd.read_csv('time_series_covid19_confirmed_global.csv').drop(['Quarantined','Q_Date'],axis = 1)\n",
    "response = pd.read_csv('OxCGRT_timeseries_all.csv')\n",
    "response.drop([149,150,151], axis = 0, inplace= True)\n",
    "response[response == 0] = np.nan\n"
   ]
  },
  {
   "cell_type": "code",
   "execution_count": 129,
   "metadata": {},
   "outputs": [],
   "source": [
    "response['avg_stringency_index'] = np.nanmean(response.iloc[:, 2:], axis=1)\n",
    "response['response_day'] = response.iloc[:,2:].apply(lambda series: series.first_valid_index(), axis = 1)"
   ]
  },
  {
   "cell_type": "code",
   "execution_count": 130,
   "metadata": {},
   "outputs": [],
   "source": [
    "df = response[['CountryName','avg_stringency_index','response_day']]"
   ]
  },
  {
   "cell_type": "code",
   "execution_count": 131,
   "metadata": {},
   "outputs": [],
   "source": [
    "#d = {\"Name\": {k:v for k, v in zip(response['CountryName'], response['avg_str'])}}\n",
    "#test = jhu['Country/Region'].replace(d)\n",
    "jhu_v2 = jhu.merge(df.rename(columns={'CountryName':'Country/Region'}), how='left') #.ffill(axis=1)['avg_str']"
   ]
  },
  {
   "cell_type": "code",
   "execution_count": 132,
   "metadata": {},
   "outputs": [],
   "source": [
    "jhu_v2['response_day'] = pd.to_datetime(jhu_v2['response_day'])"
   ]
  },
  {
   "cell_type": "code",
   "execution_count": 136,
   "metadata": {},
   "outputs": [],
   "source": [
    "jhu_v2.to_csv('jhu_w_quarantine_data.csv')"
   ]
  }
 ],
 "metadata": {
  "kernelspec": {
   "display_name": "Python 3",
   "language": "python",
   "name": "python3"
  },
  "language_info": {
   "codemirror_mode": {
    "name": "ipython",
    "version": 3
   },
   "file_extension": ".py",
   "mimetype": "text/x-python",
   "name": "python",
   "nbconvert_exporter": "python",
   "pygments_lexer": "ipython3",
   "version": "3.7.6"
  }
 },
 "nbformat": 4,
 "nbformat_minor": 4
}
