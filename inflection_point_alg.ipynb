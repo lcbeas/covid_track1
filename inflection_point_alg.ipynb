{
 "cells": [
  {
   "cell_type": "code",
   "execution_count": 9,
   "metadata": {},
   "outputs": [],
   "source": [
    "import pandas as pd\n",
    "import numpy as np\n",
    "import matplotlib.pyplot as plt"
   ]
  },
  {
   "cell_type": "code",
   "execution_count": 3,
   "metadata": {},
   "outputs": [],
   "source": [
    "y = [1.00000e+00, 1.00000e+00, 2.00000e+00, 2.00000e+00, 5.00000e+00,\n",
    "       5.00000e+00, 5.00000e+00, 5.00000e+00, 5.00000e+00, 7.00000e+00,\n",
    "       8.00000e+00, 8.00000e+00, 1.10000e+01, 1.10000e+01, 1.10000e+01,\n",
    "       1.10000e+01, 1.10000e+01, 1.10000e+01, 1.10000e+01, 1.10000e+01,\n",
    "       1.20000e+01, 1.20000e+01, 1.30000e+01, 1.30000e+01, 1.30000e+01,\n",
    "       1.30000e+01, 1.30000e+01, 1.30000e+01, 1.30000e+01, 1.30000e+01,\n",
    "       1.50000e+01, 1.50000e+01, 1.50000e+01, 1.50000e+01, 1.50000e+01,\n",
    "       1.50000e+01, 1.60000e+01, 1.60000e+01, 2.40000e+01, 3.00000e+01,\n",
    "       5.30000e+01, 7.30000e+01, 1.04000e+02, 1.72000e+02, 2.17000e+02,\n",
    "       3.36000e+02, 4.50000e+02, 5.14000e+02, 7.08000e+02, 1.10500e+03,\n",
    "       1.55700e+03, 2.14700e+03, 2.85700e+03, 2.91800e+03, 4.30700e+03,\n",
    "       6.09600e+03, 8.87300e+03, 1.40940e+04, 1.94030e+04, 2.57250e+04,\n",
    "       3.36340e+04, 4.36630e+04, 5.37360e+04, 6.57780e+04, 8.38360e+04,\n",
    "       1.01657e+05, 1.21465e+05, 1.40909e+05, 1.61831e+05, 1.88172e+05,\n",
    "       2.13242e+05, 2.43622e+05, 2.75367e+05, 3.08650e+05, 3.36802e+05,\n",
    "       3.66317e+05, 3.97121e+05, 4.28654e+05, 4.62780e+05, 4.96535e+05,\n",
    "       5.26396e+05, 5.55313e+05, 5.80619e+05, 6.07670e+05, 6.36350e+05,\n",
    "       6.67592e+05, 6.99706e+05, 7.32197e+05, 7.58809e+05, 7.84326e+05,\n",
    "       8.11865e+05, 8.40220e+05]\n",
    "x = range(len(y))"
   ]
  },
  {
   "cell_type": "code",
   "execution_count": 11,
   "metadata": {},
   "outputs": [
    {
     "data": {
      "text/plain": [
       "[<matplotlib.lines.Line2D at 0x24d25b362c8>]"
      ]
     },
     "execution_count": 11,
     "metadata": {},
     "output_type": "execute_result"
    },
    {
     "data": {
      "image/png": "[encoded data removed]",
      "text/plain": [
       "<Figure size 432x288 with 1 Axes>"
      ]
     },
     "metadata": {
      "needs_background": "light"
     },
     "output_type": "display_data"
    }
   ],
   "source": [
    "plt.plot(np.diff(y,2))"
   ]
  },
  {
   "cell_type": "code",
   "execution_count": 46,
   "metadata": {},
   "outputs": [],
   "source": [
    "def before_sign(x):\n",
    "    if x <0:\n",
    "        return -1\n",
    "    if x>0:\n",
    "        return 1\n",
    "    else:\n",
    "        return 0\n",
    "def after_sign(x):\n",
    "    if x >0:\n",
    "        return -1\n",
    "    if x<0:\n",
    "        return 1\n",
    "    else:\n",
    "        return 0\n",
    "\n",
    "before_vect = np.vectorize(before_sign)\n",
    "after_vect = np.vectorize(after_sign)"
   ]
  },
  {
   "cell_type": "code",
   "execution_count": 45,
   "metadata": {},
   "outputs": [],
   "source": [
    "# give this np.diff(confirmed_cases,2)\n",
    "\n",
    "def get_inflection(case_der, window_size = 20):\n",
    "    inflection_point = 0\n",
    "    max_val = 0\n",
    "    for idx, val in enumerate(case_der):\n",
    "        if idx ==0:\n",
    "            continue\n",
    "        if idx == len(case_der)-1:\n",
    "            continue\n",
    "        if idx <window_size:\n",
    "            if np.sum(before_vect(case_der[0:idx])) + np.sum(after_vect(case_der[idx+1:idx+1+window_size]))> max_val:\n",
    "                inflection_point = idx\n",
    "                max_val = np.sum(before_vect(case_der[0:idx])) + np.sum(after_vect(case_der[idx+1:idx+1+window_size]))\n",
    "        if idx >= window_size and idx < len(y_der)-window_size:\n",
    "            if np.sum(before_vect(case_der[idx-window_size:idx])) + np.sum(after_vect(case_der[idx+1:idx+1+window_size]))> max_val:\n",
    "                inflection_point = idx\n",
    "                max_val = np.sum(before_vect(case_der[idx-window_size:idx])) + np.sum(after_vect(case_der[idx+1:idx+1+window_size]))\n",
    "        if idx >=window_size and idx >= len(y_der)-window_size:\n",
    "            if np.sum(before_vect(case_der[idx-window_size:idx])) + np.sum(after_vect(case_der[idx+1:]))> max_val:\n",
    "                inflection_point = idx\n",
    "                max_val = np.sum(before_vect(case_der[idx-window_size:idx])) + np.sum(after_vect(case_der[idx+1:]))\n",
    "    return inflection_point"
   ]
  },
  {
   "cell_type": "code",
   "execution_count": 44,
   "metadata": {},
   "outputs": [
    {
     "data": {
      "text/plain": [
       "76"
      ]
     },
     "execution_count": 44,
     "metadata": {},
     "output_type": "execute_result"
    }
   ],
   "source": [
    "y_der = np.diff(y,2)\n",
    "get_inflection(y_der)"
   ]
  }
 ],
 "metadata": {
  "kernelspec": {
   "display_name": "Python 3",
   "language": "python",
   "name": "python3"
  },
  "language_info": {
   "codemirror_mode": {
    "name": "ipython",
    "version": 3
   },
   "file_extension": ".py",
   "mimetype": "text/x-python",
   "name": "python",
   "nbconvert_exporter": "python",
   "pygments_lexer": "ipython3",
   "version": "3.7.6"
  }
 },
 "nbformat": 4,
 "nbformat_minor": 4
}
